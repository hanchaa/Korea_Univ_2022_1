{
  "cells": [
    {
      "cell_type": "markdown",
      "metadata": {
        "id": "uchZsTUr-c9r"
      },
      "source": [
        "# HW 4: Spam/Ham Classification\n",
        "## Due Date: 5/20 (Fri), 11:59 PM\n",
        "\n",
        "**Collaboration Policy**\n",
        "\n",
        "Data science is a collaborative activity. While you may talk with others about\n",
        "the project, we ask that you **write your solutions individually**. If you do\n",
        "discuss the assignments with others please **include their names** at the top\n",
        "of your notebook."
      ]
    },
    {
      "cell_type": "markdown",
      "metadata": {
        "id": "BZm3TdH3-c9s"
      },
      "source": [
        "**Collaborators**: *list collaborators here*"
      ]
    },
    {
      "cell_type": "markdown",
      "metadata": {
        "id": "npb43RFZ-c9s"
      },
      "source": [
        "## This Assignment\n",
        "In this homework, you will use what you've learned in class to create a classifier that can distinguish spam (junk or commercial or bulk) emails from ham (non-spam) emails. In addition to providing some skeleton code to fill in, we will evaluate your work based on your model's accuracy and your written responses in this notebook.\n",
        "\n",
        "After this homework, you should feel comfortable with the following:\n",
        "\n",
        "- Part 1: Feature engineering with text data\n",
        "- Part 2: Using sklearn libraries to process data and fit models\n",
        "- Part 3: Validating the performance of your model and minimizing overfitting\n",
        "- Part 3: Generating and analyzing precision-recall curves\n",
        "\n",
        "## <span style=\"color:red\">Warning!</span> \n",
        "We've tried our best to filter the data for anything blatantly offensive as best as we can, but unfortunately there may still be some examples you may find in poor taste. If you encounter these examples and believe it is inappropriate for students, please let a TA know and we will try to remove it for future semesters. Thanks for your understanding!"
      ]
    },
    {
      "cell_type": "markdown",
      "metadata": {
        "id": "zyVLHHS3-c9t"
      },
      "source": [
        "## Score Breakdown\n",
        "Question | Points\n",
        "--- | ---\n",
        "1a | 2\n",
        "1b | 2\n",
        "1c | 2\n",
        "2 | 3\n",
        "3 | 3\n",
        "4 | 3\n",
        "5 | 3\n",
        "6a | 3\n",
        "6b | 3\n",
        "6c | 3\n",
        "6d | 3\n",
        "7 | 4\n",
        "8 | 4\n",
        "Total | 38"
      ]
    },
    {
      "cell_type": "markdown",
      "metadata": {
        "id": "lGGE7QCC-c9t"
      },
      "source": [
        "# Part I - Initial Analysis"
      ]
    },
    {
      "cell_type": "code",
      "execution_count": 1,
      "metadata": {
        "id": "-O2DiZBt-c9t"
      },
      "outputs": [],
      "source": [
        "import numpy as np\n",
        "import pandas as pd\n",
        "import matplotlib.pyplot as plt\n",
        "%matplotlib inline\n",
        "\n",
        "import seaborn as sns\n",
        "sns.set(style = \"whitegrid\", \n",
        "        color_codes = True,\n",
        "        font_scale = 1.5)\n",
        "\n",
        "class bcolor:\n",
        "   BLACK = '\\033[40m'\n",
        "   YELLOW = '\\033[93m'\n",
        "   RED = '\\033[91m'\n",
        "   BOLD = '\\033[1m'\n",
        "   END = '\\033[0m'\n",
        "\n",
        "def print_passed(str_in):\n",
        "  print(bcolor.BLACK + bcolor.YELLOW + bcolor.BOLD + str_in + bcolor.END)"
      ]
    },
    {
      "cell_type": "markdown",
      "metadata": {
        "id": "tOKYwC_X_Tom"
      },
      "source": [
        "## Mount your Google Drive\n",
        "When you run a code cell, Colab executes it on a temporary cloud instance.  Every time you open the notebook, you will be assigned a different machine.  All compute state and files saved on the previous machine will be lost.  Therefore, you may need to re-download datasets or rerun code after a reset. Here, you can mount your Google drive to the temporary cloud instance's local filesystem using the following code snippet and save files under the specified directory (note that you will have to provide permission every time you run this)."
      ]
    },
    {
      "cell_type": "code",
      "execution_count": 2,
      "metadata": {
        "colab": {
          "base_uri": "https://localhost:8080/"
        },
        "id": "JpuWdTnn_QUH",
        "outputId": "7ae7ff4a-8628-4c18-b94e-ce93018c65cc"
      },
      "outputs": [
        {
          "output_type": "stream",
          "name": "stdout",
          "text": [
            "Mounted at /content/drive\n",
            "\n",
            "Number of Google drive files in /content/drive/My Drive/:\n",
            "56\n",
            "\n",
            "Current directory:\n",
            "/content\n"
          ]
        }
      ],
      "source": [
        "# mount Google drive\n",
        "from google.colab import drive\n",
        "drive.mount('/content/drive')\n",
        "\n",
        "# now you can see files\n",
        "!echo -e \"\\nNumber of Google drive files in /content/drive/My Drive/:\"\n",
        "!ls -l \"/content/drive/My Drive/\" | wc -l\n",
        "# by the way, you can run any linux command by putting a ! at the start of the line\n",
        "\n",
        "# by default everything gets executed and saved in /content/\n",
        "!echo -e \"\\nCurrent directory:\"\n",
        "!pwd"
      ]
    },
    {
      "cell_type": "code",
      "execution_count": 3,
      "metadata": {
        "colab": {
          "base_uri": "https://localhost:8080/"
        },
        "id": "phWTu0ph_nhP",
        "outputId": "46362f76-74c4-4277-a18d-356e294e8eb6"
      },
      "outputs": [
        {
          "output_type": "stream",
          "name": "stdout",
          "text": [
            "Current Workspace: /content/drive/MyDrive/Lectures/COSE471/hw/hw4\n"
          ]
        }
      ],
      "source": [
        "workspace_path = '/content/drive/MyDrive/Lectures/COSE471/hw/hw4'  # Change this path!\n",
        "print(f'Current Workspace: {workspace_path}')"
      ]
    },
    {
      "cell_type": "markdown",
      "metadata": {
        "id": "7Y2hj5A8-c9u"
      },
      "source": [
        "### Loading in the Data\n",
        "\n",
        "Our goal is to classify emails as spam or not spam (referred to as \"ham\") using features generated from the text in the email. \n",
        "\n",
        "The dataset consists of email messages and their labels (0 for ham, 1 for spam). Your labeled training dataset contains 8348 labeled examples, and the test set contains 1000 unlabeled examples.\n",
        "\n",
        "Run the following cells to load in the data into DataFrames.\n",
        "\n",
        "The `train` DataFrame contains labeled data that you will use to train your model. It contains four columns:\n",
        "\n",
        "1. `id`: An identifier for the training example\n",
        "1. `subject`: The subject of the email\n",
        "1. `email`: The text of the email\n",
        "1. `spam`: 1 if the email is spam, 0 if the email is ham (not spam)\n",
        "\n",
        "The `test` DataFrame contains 1000 unlabeled emails. You will predict labels for these emails and submit your predictions to Kaggle for evaluation."
      ]
    },
    {
      "cell_type": "code",
      "execution_count": 4,
      "metadata": {
        "colab": {
          "base_uri": "https://localhost:8080/",
          "height": 206
        },
        "id": "ybZYxrch-c9u",
        "outputId": "2f73b9fb-39cb-4541-88d3-1f0cf4ba2f50"
      },
      "outputs": [
        {
          "output_type": "execute_result",
          "data": {
            "text/plain": [
              "   id                                            subject  \\\n",
              "0   0  Subject: A&L Daily to be auctioned in bankrupt...   \n",
              "1   1  Subject: Wired: \"Stronger ties between ISPs an...   \n",
              "2   2  Subject: It's just too small                  ...   \n",
              "3   3                      Subject: liberal defnitions\\n   \n",
              "4   4  Subject: RE: [ILUG] Newbie seeks advice - Suse...   \n",
              "\n",
              "                                               email  spam  \n",
              "0  url: http://boingboing.net/#85534171\\n date: n...     0  \n",
              "1  url: http://scriptingnews.userland.com/backiss...     0  \n",
              "2  <html>\\n <head>\\n </head>\\n <body>\\n <font siz...     1  \n",
              "3  depends on how much over spending vs. how much...     0  \n",
              "4  hehe sorry but if you hit caps lock twice the ...     0  "
            ],
            "text/html": [
              "\n",
              "  <div id=\"df-56f54437-4090-4f9a-9bd8-22c453573d9c\">\n",
              "    <div class=\"colab-df-container\">\n",
              "      <div>\n",
              "<style scoped>\n",
              "    .dataframe tbody tr th:only-of-type {\n",
              "        vertical-align: middle;\n",
              "    }\n",
              "\n",
              "    .dataframe tbody tr th {\n",
              "        vertical-align: top;\n",
              "    }\n",
              "\n",
              "    .dataframe thead th {\n",
              "        text-align: right;\n",
              "    }\n",
              "</style>\n",
              "<table border=\"1\" class=\"dataframe\">\n",
              "  <thead>\n",
              "    <tr style=\"text-align: right;\">\n",
              "      <th></th>\n",
              "      <th>id</th>\n",
              "      <th>subject</th>\n",
              "      <th>email</th>\n",
              "      <th>spam</th>\n",
              "    </tr>\n",
              "  </thead>\n",
              "  <tbody>\n",
              "    <tr>\n",
              "      <th>0</th>\n",
              "      <td>0</td>\n",
              "      <td>Subject: A&amp;L Daily to be auctioned in bankrupt...</td>\n",
              "      <td>url: http://boingboing.net/#85534171\\n date: n...</td>\n",
              "      <td>0</td>\n",
              "    </tr>\n",
              "    <tr>\n",
              "      <th>1</th>\n",
              "      <td>1</td>\n",
              "      <td>Subject: Wired: \"Stronger ties between ISPs an...</td>\n",
              "      <td>url: http://scriptingnews.userland.com/backiss...</td>\n",
              "      <td>0</td>\n",
              "    </tr>\n",
              "    <tr>\n",
              "      <th>2</th>\n",
              "      <td>2</td>\n",
              "      <td>Subject: It's just too small                  ...</td>\n",
              "      <td>&lt;html&gt;\\n &lt;head&gt;\\n &lt;/head&gt;\\n &lt;body&gt;\\n &lt;font siz...</td>\n",
              "      <td>1</td>\n",
              "    </tr>\n",
              "    <tr>\n",
              "      <th>3</th>\n",
              "      <td>3</td>\n",
              "      <td>Subject: liberal defnitions\\n</td>\n",
              "      <td>depends on how much over spending vs. how much...</td>\n",
              "      <td>0</td>\n",
              "    </tr>\n",
              "    <tr>\n",
              "      <th>4</th>\n",
              "      <td>4</td>\n",
              "      <td>Subject: RE: [ILUG] Newbie seeks advice - Suse...</td>\n",
              "      <td>hehe sorry but if you hit caps lock twice the ...</td>\n",
              "      <td>0</td>\n",
              "    </tr>\n",
              "  </tbody>\n",
              "</table>\n",
              "</div>\n",
              "      <button class=\"colab-df-convert\" onclick=\"convertToInteractive('df-56f54437-4090-4f9a-9bd8-22c453573d9c')\"\n",
              "              title=\"Convert this dataframe to an interactive table.\"\n",
              "              style=\"display:none;\">\n",
              "        \n",
              "  <svg xmlns=\"http://www.w3.org/2000/svg\" height=\"24px\"viewBox=\"0 0 24 24\"\n",
              "       width=\"24px\">\n",
              "    <path d=\"M0 0h24v24H0V0z\" fill=\"none\"/>\n",
              "    <path d=\"M18.56 5.44l.94 2.06.94-2.06 2.06-.94-2.06-.94-.94-2.06-.94 2.06-2.06.94zm-11 1L8.5 8.5l.94-2.06 2.06-.94-2.06-.94L8.5 2.5l-.94 2.06-2.06.94zm10 10l.94 2.06.94-2.06 2.06-.94-2.06-.94-.94-2.06-.94 2.06-2.06.94z\"/><path d=\"M17.41 7.96l-1.37-1.37c-.4-.4-.92-.59-1.43-.59-.52 0-1.04.2-1.43.59L10.3 9.45l-7.72 7.72c-.78.78-.78 2.05 0 2.83L4 21.41c.39.39.9.59 1.41.59.51 0 1.02-.2 1.41-.59l7.78-7.78 2.81-2.81c.8-.78.8-2.07 0-2.86zM5.41 20L4 18.59l7.72-7.72 1.47 1.35L5.41 20z\"/>\n",
              "  </svg>\n",
              "      </button>\n",
              "      \n",
              "  <style>\n",
              "    .colab-df-container {\n",
              "      display:flex;\n",
              "      flex-wrap:wrap;\n",
              "      gap: 12px;\n",
              "    }\n",
              "\n",
              "    .colab-df-convert {\n",
              "      background-color: #E8F0FE;\n",
              "      border: none;\n",
              "      border-radius: 50%;\n",
              "      cursor: pointer;\n",
              "      display: none;\n",
              "      fill: #1967D2;\n",
              "      height: 32px;\n",
              "      padding: 0 0 0 0;\n",
              "      width: 32px;\n",
              "    }\n",
              "\n",
              "    .colab-df-convert:hover {\n",
              "      background-color: #E2EBFA;\n",
              "      box-shadow: 0px 1px 2px rgba(60, 64, 67, 0.3), 0px 1px 3px 1px rgba(60, 64, 67, 0.15);\n",
              "      fill: #174EA6;\n",
              "    }\n",
              "\n",
              "    [theme=dark] .colab-df-convert {\n",
              "      background-color: #3B4455;\n",
              "      fill: #D2E3FC;\n",
              "    }\n",
              "\n",
              "    [theme=dark] .colab-df-convert:hover {\n",
              "      background-color: #434B5C;\n",
              "      box-shadow: 0px 1px 3px 1px rgba(0, 0, 0, 0.15);\n",
              "      filter: drop-shadow(0px 1px 2px rgba(0, 0, 0, 0.3));\n",
              "      fill: #FFFFFF;\n",
              "    }\n",
              "  </style>\n",
              "\n",
              "      <script>\n",
              "        const buttonEl =\n",
              "          document.querySelector('#df-56f54437-4090-4f9a-9bd8-22c453573d9c button.colab-df-convert');\n",
              "        buttonEl.style.display =\n",
              "          google.colab.kernel.accessAllowed ? 'block' : 'none';\n",
              "\n",
              "        async function convertToInteractive(key) {\n",
              "          const element = document.querySelector('#df-56f54437-4090-4f9a-9bd8-22c453573d9c');\n",
              "          const dataTable =\n",
              "            await google.colab.kernel.invokeFunction('convertToInteractive',\n",
              "                                                     [key], {});\n",
              "          if (!dataTable) return;\n",
              "\n",
              "          const docLinkHtml = 'Like what you see? Visit the ' +\n",
              "            '<a target=\"_blank\" href=https://colab.research.google.com/notebooks/data_table.ipynb>data table notebook</a>'\n",
              "            + ' to learn more about interactive tables.';\n",
              "          element.innerHTML = '';\n",
              "          dataTable['output_type'] = 'display_data';\n",
              "          await google.colab.output.renderOutput(dataTable, element);\n",
              "          const docLink = document.createElement('div');\n",
              "          docLink.innerHTML = docLinkHtml;\n",
              "          element.appendChild(docLink);\n",
              "        }\n",
              "      </script>\n",
              "    </div>\n",
              "  </div>\n",
              "  "
            ]
          },
          "metadata": {},
          "execution_count": 4
        }
      ],
      "source": [
        "original_training_data = pd.read_csv(f'{workspace_path}/train.csv')\n",
        "test = pd.read_csv(f'{workspace_path}/test.csv')\n",
        "\n",
        "# Convert the emails to lower case as a first step to processing the text\n",
        "original_training_data['email'] = original_training_data['email'].str.lower()\n",
        "test['email'] = test['email'].str.lower()\n",
        "\n",
        "original_training_data.head()"
      ]
    },
    {
      "cell_type": "markdown",
      "metadata": {
        "id": "LYeMW2mz-c9v"
      },
      "source": [
        "### Question 1a\n",
        "First, let's check if our data contains any missing values. \n",
        "\n",
        "- Step1: Fill in the cell below to print the number of NaN values in each column. **Hint**: [pandas.isnull](https://pandas.pydata.org/docs/reference/api/pandas.isnull.html)\n",
        "- Step2: If there are NaN values, replace them with appropriate filler values (i.e., NaN values in the `subject` or `email` columns should be replaced with empty strings). \n",
        "- Step3: Print the number of NaN values in each column after this modification to verify that there are no NaN values left.\n",
        "\n",
        "<!--\n",
        "BEGIN QUESTION\n",
        "name: q1a\n",
        "points: 1\n",
        "-->"
      ]
    },
    {
      "cell_type": "code",
      "execution_count": 5,
      "metadata": {
        "colab": {
          "base_uri": "https://localhost:8080/"
        },
        "id": "vREZl_jS-c9v",
        "outputId": "83412031-be02-4892-da10-1b4a528238c6"
      },
      "outputs": [
        {
          "output_type": "stream",
          "name": "stdout",
          "text": [
            "Before imputation:\n",
            "id         0\n",
            "subject    6\n",
            "email      0\n",
            "spam       0\n",
            "dtype: int64\n",
            "------------\n",
            "After imputation:\n",
            "id         0\n",
            "subject    0\n",
            "email      0\n",
            "spam       0\n",
            "dtype: int64\n"
          ]
        }
      ],
      "source": [
        "# BEGIN YOUR CODE\n",
        "# -----------------------\n",
        "#print('Before imputation:')\n",
        "#...\n",
        "#print('------------')\n",
        "#print('After imputation:')\n",
        "#...\n",
        "# -----------------------\n",
        "# END YOUR CODE"
      ]
    },
    {
      "cell_type": "code",
      "execution_count": 6,
      "metadata": {
        "colab": {
          "base_uri": "https://localhost:8080/"
        },
        "id": "vghjI4WO-c9v",
        "outputId": "53c8581f-3c25-4e07-e5e3-34fbd73f7022"
      },
      "outputs": [
        {
          "output_type": "stream",
          "name": "stdout",
          "text": [
            "\u001b[40m\u001b[93m\u001b[1mQ1a: Passed all unit tests!\u001b[0m\n"
          ]
        }
      ],
      "source": [
        "assert original_training_data.isnull().sum().sum() == 0\n",
        "print_passed('Q1a: Passed all unit tests!')"
      ]
    },
    {
      "cell_type": "markdown",
      "metadata": {
        "id": "hDyNrsW0-c9v"
      },
      "source": [
        "### Question 1b\n",
        "\n",
        "In the cell below, print the text of the first ham (i.e. 1st row) and the first spam email in the original training set.\n",
        "\n",
        "<!--\n",
        "BEGIN QUESTION\n",
        "name: q1b\n",
        "points: 1\n",
        "-->"
      ]
    },
    {
      "cell_type": "code",
      "execution_count": 7,
      "metadata": {
        "colab": {
          "base_uri": "https://localhost:8080/"
        },
        "id": "gRB6X5hP-c9w",
        "outputId": "d946d67b-e42a-4a93-ae53-b5aea84a0526"
      },
      "outputs": [
        {
          "output_type": "stream",
          "name": "stdout",
          "text": [
            "The text of the first Ham:\n",
            "------------\n",
            "url: http://boingboing.net/#85534171\n",
            " date: not supplied\n",
            " \n",
            " arts and letters daily, a wonderful and dense blog, has folded up its tent due \n",
            " to the bankruptcy of its parent company. a&l daily will be auctioned off by the \n",
            " receivers. link[1] discuss[2] (_thanks, misha!_)\n",
            " \n",
            " [1] http://www.aldaily.com/\n",
            " [2] http://www.quicktopic.com/boing/h/zlfterjnd6jf\n",
            " \n",
            " \n",
            "\n",
            "The text of the first Spam:\n",
            "------------\n",
            "<html>\n",
            " <head>\n",
            " </head>\n",
            " <body>\n",
            " <font size=3d\"4\"><b> a man endowed with a 7-8\" hammer is simply<br>\n",
            "  better equipped than a man with a 5-6\"hammer. <br>\n",
            " <br>would you rather have<br>more than enough to get the job done or fall =\n",
            " short. it's totally up<br>to you. our methods are guaranteed to increase y=\n",
            " our size by 1-3\"<br> <a href=3d\"http://209.163.187.47/cgi-bin/index.php?10=\n",
            " 004\">come in here and see how</a>\n",
            " </body>\n",
            " </html>\n",
            " \n",
            " \n",
            " \n",
            "\n"
          ]
        }
      ],
      "source": [
        "# BEGIN YOUR CODE\n",
        "# -----------------------\n",
        "first_ham = ...\n",
        "first_spam = ...\n",
        "# -----------------------\n",
        "# END YOUR CODE\n",
        "\n",
        "print('The text of the first Ham:')\n",
        "print('------------')\n",
        "print(first_ham)\n",
        "\n",
        "print('The text of the first Spam:')\n",
        "print('------------')\n",
        "print(first_spam)"
      ]
    },
    {
      "cell_type": "code",
      "execution_count": 8,
      "metadata": {
        "colab": {
          "base_uri": "https://localhost:8080/"
        },
        "id": "AEbvv1L7-c9w",
        "outputId": "d455f8a5-fde4-4a62-ee58-37ef9a022fd9"
      },
      "outputs": [
        {
          "output_type": "stream",
          "name": "stdout",
          "text": [
            "\u001b[40m\u001b[93m\u001b[1mQ1b: Passed all unit tests!\u001b[0m\n"
          ]
        }
      ],
      "source": [
        "assert len(first_ham) == 359 and len(first_spam) == 444\n",
        "print_passed('Q1b: Passed all unit tests!')"
      ]
    },
    {
      "cell_type": "markdown",
      "metadata": {
        "id": "ouvBVCH8-c9w"
      },
      "source": [
        "### Question 1c\n",
        "\n",
        "Discuss one thing you notice that is different between the two emails that might relate to the identification of spam.\n",
        "\n",
        "<!--\n",
        "BEGIN QUESTION\n",
        "name: q1c\n",
        "manual: True\n",
        "points: 2\n",
        "-->\n",
        "<!-- EXPORT TO PDF -->"
      ]
    },
    {
      "cell_type": "markdown",
      "metadata": {
        "id": "_PkkYtvH-c9w"
      },
      "source": [
        "Answer: `your answer here...`"
      ]
    },
    {
      "cell_type": "markdown",
      "metadata": {
        "id": "EEJ511_8-c9w"
      },
      "source": [
        "## Training Validation Split\n",
        "The training data is all the data we have available for both training models and **validating** the models that we train. We therefore need to split the training data into separate training and validation datsets. You will need this **validation data** to assess the performance of your classifier once you are finished training. \n",
        "\n",
        "Note that we set the seed (random_state) to 42. This will produce a pseudo-random sequence of random numbers that is the same for every student. **Do not modify this in the following questions, as our tests depend on this random seed.**"
      ]
    },
    {
      "cell_type": "code",
      "execution_count": 9,
      "metadata": {
        "id": "Lh57_56V-c9w"
      },
      "outputs": [],
      "source": [
        "from sklearn.model_selection import train_test_split\n",
        "\n",
        "train, val = train_test_split(\n",
        "    original_training_data, test_size=0.1, random_state=42)"
      ]
    },
    {
      "cell_type": "code",
      "execution_count": 10,
      "metadata": {
        "colab": {
          "base_uri": "https://localhost:8080/"
        },
        "id": "kbFU8MUl-c9x",
        "outputId": "c13bccdd-2050-4575-ef51-5bca2b293043"
      },
      "outputs": [
        {
          "output_type": "stream",
          "name": "stdout",
          "text": [
            "(7513, 4) (835, 4)\n"
          ]
        }
      ],
      "source": [
        "print(train.shape, val.shape)   # 더해서 8342 맞음"
      ]
    },
    {
      "cell_type": "markdown",
      "metadata": {
        "id": "TMf51RV8-c9x"
      },
      "source": [
        "# Basic Feature Engineering\n",
        "\n",
        "We would like to take the text of an email and predict whether the email is **ham** or **spam**. This is a *classification* problem, and here we use logistic regression to train a classifier. \n",
        "\n",
        "Recall that to train an logistic regression model we need:\n",
        " - a numeric feature matrix $X$\n",
        " - a vector of corresponding binary labels $y$.\n",
        "\n",
        "Unfortunately, our data are text, not numbers. To address this, we can create numeric features derived from the email text and use those features for logistic regression:\n",
        " - Each row of $X$ is an email.\n",
        " - Each column of $X$ contains one feature for all the emails. \n",
        " \n",
        "We'll guide you through creating a simple feature, and you'll create more interesting ones when you are trying to increase your accuracy."
      ]
    },
    {
      "cell_type": "markdown",
      "metadata": {
        "id": "a5kzAWDe-c9x"
      },
      "source": [
        "### Question 2\n",
        "\n",
        "Create a function called `words_in_texts` that takes in a list of `words` and a pandas Series of email `texts`. It should output a 2-dimensional NumPy array containing one row for each email text. The row should contain either a 0 or a 1 for each word in the list: 0 if the word doesn't appear in the text and 1 if the word does. For example:\n",
        "\n",
        "```\n",
        ">>> words_in_texts(['hello', 'bye', 'world'], \n",
        "                   pd.Series(['hello', 'hello worldhello']))\n",
        "\n",
        "array([[1, 0, 0],\n",
        "       [1, 0, 1]])\n",
        "```\n",
        "\n",
        "**Hint**: [pandas.Series.str.contains](https://pandas.pydata.org/docs/reference/api/pandas.Series.str.contains.html)\n",
        "\n",
        "*The provided tests make sure that your function works correctly, so that you can use it for future questions.*\n",
        "\n",
        "<!--\n",
        "BEGIN QUESTION\n",
        "name: q2\n",
        "points: 3\n",
        "-->"
      ]
    },
    {
      "cell_type": "code",
      "execution_count": 11,
      "metadata": {
        "id": "9OANL6hA-c9x"
      },
      "outputs": [],
      "source": [
        "def words_in_texts(words, texts):\n",
        "    '''\n",
        "    Args:\n",
        "        words (list-like): words to find\n",
        "        texts (Series): strings to search in\n",
        "    \n",
        "    Returns:\n",
        "        NumPy array of 0s and 1s with shape (n, p) where n is the\n",
        "        number of texts and p is the number of words.\n",
        "    '''\n",
        "    # BEGIN YOUR CODE\n",
        "    # -----------------------\n",
        "    indicator_array = ...\n",
        "    # -----------------------\n",
        "    # END YOUR CODE\n",
        "    return indicator_array"
      ]
    },
    {
      "cell_type": "code",
      "execution_count": 12,
      "metadata": {
        "colab": {
          "base_uri": "https://localhost:8080/"
        },
        "id": "ghfT7JNi-c9x",
        "outputId": "eb29c69b-b7f1-4b30-abc6-b158192195d4"
      },
      "outputs": [
        {
          "output_type": "stream",
          "name": "stdout",
          "text": [
            "\u001b[40m\u001b[93m\u001b[1mQ2: Passed all unit tests!\u001b[0m\n"
          ]
        }
      ],
      "source": [
        "assert np.allclose(\n",
        "    words_in_texts(\n",
        "        ['hello', 'bye', 'world'], \n",
        "        pd.Series(['hello', 'hello worldhello'])), \n",
        "    np.array([[1, 0, 0], [1, 0, 1]]))\n",
        "\n",
        "assert np.allclose(\n",
        "    words_in_texts(\n",
        "        ['a', 'b', 'c', 'd', 'e', 'f', 'g'], \n",
        "        pd.Series(['a b c d ef g', 'a', 'b', 'c', 'd e f g', 'h', 'a h'])), \n",
        "    np.array(\n",
        "        [[1,1,1,1,1,1,1], \n",
        "         [1,0,0,0,0,0,0],\n",
        "         [0,1,0,0,0,0,0],\n",
        "         [0,0,1,0,0,0,0],\n",
        "         [0,0,0,1,1,1,1],\n",
        "         [0,0,0,0,0,0,0],\n",
        "         [1,0,0,0,0,0,0]]))\n",
        "\n",
        "print_passed('Q2: Passed all unit tests!')"
      ]
    },
    {
      "cell_type": "markdown",
      "metadata": {
        "id": "rmMhnJmR-c9x"
      },
      "source": [
        "# Basic EDA\n",
        "\n",
        "We need to identify some features that allow us to distinguish spam emails from ham emails. One idea is to compare the distribution of a single feature in spam emails to the distribution of the same feature in ham emails. \n",
        "\n",
        "If the feature is itself a binary indicator (such as whether a certain word occurs in the text), this amounts to comparing the proportion of spam emails with the word to the proportion of ham emails with the word."
      ]
    },
    {
      "cell_type": "code",
      "execution_count": 13,
      "metadata": {
        "colab": {
          "base_uri": "https://localhost:8080/",
          "height": 566
        },
        "id": "lOxun1Re-c9x",
        "outputId": "7de04efd-6cac-4f95-fab7-0329c9d6bd47"
      },
      "outputs": [
        {
          "output_type": "display_data",
          "data": {
            "text/plain": [
              "<IPython.core.display.Markdown object>"
            ],
            "text/markdown": "> Our Original DataFrame has some words column and a type column. You can think of each row is a sentence, and the value of 1 or 0 indicates the number of occurances of the word in this sentence."
          },
          "metadata": {}
        },
        {
          "output_type": "display_data",
          "data": {
            "text/plain": [
              "   word_1  word_2  type\n",
              "0       1       0  spam\n",
              "1       0       1   ham\n",
              "2       1       0   ham\n",
              "3       0       1   ham"
            ],
            "text/html": [
              "\n",
              "  <div id=\"df-9c912df4-55cc-41ec-a129-8e85ec09891b\">\n",
              "    <div class=\"colab-df-container\">\n",
              "      <div>\n",
              "<style scoped>\n",
              "    .dataframe tbody tr th:only-of-type {\n",
              "        vertical-align: middle;\n",
              "    }\n",
              "\n",
              "    .dataframe tbody tr th {\n",
              "        vertical-align: top;\n",
              "    }\n",
              "\n",
              "    .dataframe thead th {\n",
              "        text-align: right;\n",
              "    }\n",
              "</style>\n",
              "<table border=\"1\" class=\"dataframe\">\n",
              "  <thead>\n",
              "    <tr style=\"text-align: right;\">\n",
              "      <th></th>\n",
              "      <th>word_1</th>\n",
              "      <th>word_2</th>\n",
              "      <th>type</th>\n",
              "    </tr>\n",
              "  </thead>\n",
              "  <tbody>\n",
              "    <tr>\n",
              "      <th>0</th>\n",
              "      <td>1</td>\n",
              "      <td>0</td>\n",
              "      <td>spam</td>\n",
              "    </tr>\n",
              "    <tr>\n",
              "      <th>1</th>\n",
              "      <td>0</td>\n",
              "      <td>1</td>\n",
              "      <td>ham</td>\n",
              "    </tr>\n",
              "    <tr>\n",
              "      <th>2</th>\n",
              "      <td>1</td>\n",
              "      <td>0</td>\n",
              "      <td>ham</td>\n",
              "    </tr>\n",
              "    <tr>\n",
              "      <th>3</th>\n",
              "      <td>0</td>\n",
              "      <td>1</td>\n",
              "      <td>ham</td>\n",
              "    </tr>\n",
              "  </tbody>\n",
              "</table>\n",
              "</div>\n",
              "      <button class=\"colab-df-convert\" onclick=\"convertToInteractive('df-9c912df4-55cc-41ec-a129-8e85ec09891b')\"\n",
              "              title=\"Convert this dataframe to an interactive table.\"\n",
              "              style=\"display:none;\">\n",
              "        \n",
              "  <svg xmlns=\"http://www.w3.org/2000/svg\" height=\"24px\"viewBox=\"0 0 24 24\"\n",
              "       width=\"24px\">\n",
              "    <path d=\"M0 0h24v24H0V0z\" fill=\"none\"/>\n",
              "    <path d=\"M18.56 5.44l.94 2.06.94-2.06 2.06-.94-2.06-.94-.94-2.06-.94 2.06-2.06.94zm-11 1L8.5 8.5l.94-2.06 2.06-.94-2.06-.94L8.5 2.5l-.94 2.06-2.06.94zm10 10l.94 2.06.94-2.06 2.06-.94-2.06-.94-.94-2.06-.94 2.06-2.06.94z\"/><path d=\"M17.41 7.96l-1.37-1.37c-.4-.4-.92-.59-1.43-.59-.52 0-1.04.2-1.43.59L10.3 9.45l-7.72 7.72c-.78.78-.78 2.05 0 2.83L4 21.41c.39.39.9.59 1.41.59.51 0 1.02-.2 1.41-.59l7.78-7.78 2.81-2.81c.8-.78.8-2.07 0-2.86zM5.41 20L4 18.59l7.72-7.72 1.47 1.35L5.41 20z\"/>\n",
              "  </svg>\n",
              "      </button>\n",
              "      \n",
              "  <style>\n",
              "    .colab-df-container {\n",
              "      display:flex;\n",
              "      flex-wrap:wrap;\n",
              "      gap: 12px;\n",
              "    }\n",
              "\n",
              "    .colab-df-convert {\n",
              "      background-color: #E8F0FE;\n",
              "      border: none;\n",
              "      border-radius: 50%;\n",
              "      cursor: pointer;\n",
              "      display: none;\n",
              "      fill: #1967D2;\n",
              "      height: 32px;\n",
              "      padding: 0 0 0 0;\n",
              "      width: 32px;\n",
              "    }\n",
              "\n",
              "    .colab-df-convert:hover {\n",
              "      background-color: #E2EBFA;\n",
              "      box-shadow: 0px 1px 2px rgba(60, 64, 67, 0.3), 0px 1px 3px 1px rgba(60, 64, 67, 0.15);\n",
              "      fill: #174EA6;\n",
              "    }\n",
              "\n",
              "    [theme=dark] .colab-df-convert {\n",
              "      background-color: #3B4455;\n",
              "      fill: #D2E3FC;\n",
              "    }\n",
              "\n",
              "    [theme=dark] .colab-df-convert:hover {\n",
              "      background-color: #434B5C;\n",
              "      box-shadow: 0px 1px 3px 1px rgba(0, 0, 0, 0.15);\n",
              "      filter: drop-shadow(0px 1px 2px rgba(0, 0, 0, 0.3));\n",
              "      fill: #FFFFFF;\n",
              "    }\n",
              "  </style>\n",
              "\n",
              "      <script>\n",
              "        const buttonEl =\n",
              "          document.querySelector('#df-9c912df4-55cc-41ec-a129-8e85ec09891b button.colab-df-convert');\n",
              "        buttonEl.style.display =\n",
              "          google.colab.kernel.accessAllowed ? 'block' : 'none';\n",
              "\n",
              "        async function convertToInteractive(key) {\n",
              "          const element = document.querySelector('#df-9c912df4-55cc-41ec-a129-8e85ec09891b');\n",
              "          const dataTable =\n",
              "            await google.colab.kernel.invokeFunction('convertToInteractive',\n",
              "                                                     [key], {});\n",
              "          if (!dataTable) return;\n",
              "\n",
              "          const docLinkHtml = 'Like what you see? Visit the ' +\n",
              "            '<a target=\"_blank\" href=https://colab.research.google.com/notebooks/data_table.ipynb>data table notebook</a>'\n",
              "            + ' to learn more about interactive tables.';\n",
              "          element.innerHTML = '';\n",
              "          dataTable['output_type'] = 'display_data';\n",
              "          await google.colab.output.renderOutput(dataTable, element);\n",
              "          const docLink = document.createElement('div');\n",
              "          docLink.innerHTML = docLinkHtml;\n",
              "          element.appendChild(docLink);\n",
              "        }\n",
              "      </script>\n",
              "    </div>\n",
              "  </div>\n",
              "  "
            ]
          },
          "metadata": {}
        },
        {
          "output_type": "display_data",
          "data": {
            "text/plain": [
              "<IPython.core.display.Markdown object>"
            ],
            "text/markdown": "> `melt` will turn columns into variale, notice how `word_1` and `word_2` become `variable`, their values are stoed in the value column"
          },
          "metadata": {}
        },
        {
          "output_type": "display_data",
          "data": {
            "text/plain": [
              "   type variable  value\n",
              "0  spam   word_1      1\n",
              "1   ham   word_1      0\n",
              "2   ham   word_1      1\n",
              "3   ham   word_1      0\n",
              "4  spam   word_2      0\n",
              "5   ham   word_2      1\n",
              "6   ham   word_2      0\n",
              "7   ham   word_2      1"
            ],
            "text/html": [
              "\n",
              "  <div id=\"df-d17b294e-1fe4-4662-b778-f64a3362bd44\">\n",
              "    <div class=\"colab-df-container\">\n",
              "      <div>\n",
              "<style scoped>\n",
              "    .dataframe tbody tr th:only-of-type {\n",
              "        vertical-align: middle;\n",
              "    }\n",
              "\n",
              "    .dataframe tbody tr th {\n",
              "        vertical-align: top;\n",
              "    }\n",
              "\n",
              "    .dataframe thead th {\n",
              "        text-align: right;\n",
              "    }\n",
              "</style>\n",
              "<table border=\"1\" class=\"dataframe\">\n",
              "  <thead>\n",
              "    <tr style=\"text-align: right;\">\n",
              "      <th></th>\n",
              "      <th>type</th>\n",
              "      <th>variable</th>\n",
              "      <th>value</th>\n",
              "    </tr>\n",
              "  </thead>\n",
              "  <tbody>\n",
              "    <tr>\n",
              "      <th>0</th>\n",
              "      <td>spam</td>\n",
              "      <td>word_1</td>\n",
              "      <td>1</td>\n",
              "    </tr>\n",
              "    <tr>\n",
              "      <th>1</th>\n",
              "      <td>ham</td>\n",
              "      <td>word_1</td>\n",
              "      <td>0</td>\n",
              "    </tr>\n",
              "    <tr>\n",
              "      <th>2</th>\n",
              "      <td>ham</td>\n",
              "      <td>word_1</td>\n",
              "      <td>1</td>\n",
              "    </tr>\n",
              "    <tr>\n",
              "      <th>3</th>\n",
              "      <td>ham</td>\n",
              "      <td>word_1</td>\n",
              "      <td>0</td>\n",
              "    </tr>\n",
              "    <tr>\n",
              "      <th>4</th>\n",
              "      <td>spam</td>\n",
              "      <td>word_2</td>\n",
              "      <td>0</td>\n",
              "    </tr>\n",
              "    <tr>\n",
              "      <th>5</th>\n",
              "      <td>ham</td>\n",
              "      <td>word_2</td>\n",
              "      <td>1</td>\n",
              "    </tr>\n",
              "    <tr>\n",
              "      <th>6</th>\n",
              "      <td>ham</td>\n",
              "      <td>word_2</td>\n",
              "      <td>0</td>\n",
              "    </tr>\n",
              "    <tr>\n",
              "      <th>7</th>\n",
              "      <td>ham</td>\n",
              "      <td>word_2</td>\n",
              "      <td>1</td>\n",
              "    </tr>\n",
              "  </tbody>\n",
              "</table>\n",
              "</div>\n",
              "      <button class=\"colab-df-convert\" onclick=\"convertToInteractive('df-d17b294e-1fe4-4662-b778-f64a3362bd44')\"\n",
              "              title=\"Convert this dataframe to an interactive table.\"\n",
              "              style=\"display:none;\">\n",
              "        \n",
              "  <svg xmlns=\"http://www.w3.org/2000/svg\" height=\"24px\"viewBox=\"0 0 24 24\"\n",
              "       width=\"24px\">\n",
              "    <path d=\"M0 0h24v24H0V0z\" fill=\"none\"/>\n",
              "    <path d=\"M18.56 5.44l.94 2.06.94-2.06 2.06-.94-2.06-.94-.94-2.06-.94 2.06-2.06.94zm-11 1L8.5 8.5l.94-2.06 2.06-.94-2.06-.94L8.5 2.5l-.94 2.06-2.06.94zm10 10l.94 2.06.94-2.06 2.06-.94-2.06-.94-.94-2.06-.94 2.06-2.06.94z\"/><path d=\"M17.41 7.96l-1.37-1.37c-.4-.4-.92-.59-1.43-.59-.52 0-1.04.2-1.43.59L10.3 9.45l-7.72 7.72c-.78.78-.78 2.05 0 2.83L4 21.41c.39.39.9.59 1.41.59.51 0 1.02-.2 1.41-.59l7.78-7.78 2.81-2.81c.8-.78.8-2.07 0-2.86zM5.41 20L4 18.59l7.72-7.72 1.47 1.35L5.41 20z\"/>\n",
              "  </svg>\n",
              "      </button>\n",
              "      \n",
              "  <style>\n",
              "    .colab-df-container {\n",
              "      display:flex;\n",
              "      flex-wrap:wrap;\n",
              "      gap: 12px;\n",
              "    }\n",
              "\n",
              "    .colab-df-convert {\n",
              "      background-color: #E8F0FE;\n",
              "      border: none;\n",
              "      border-radius: 50%;\n",
              "      cursor: pointer;\n",
              "      display: none;\n",
              "      fill: #1967D2;\n",
              "      height: 32px;\n",
              "      padding: 0 0 0 0;\n",
              "      width: 32px;\n",
              "    }\n",
              "\n",
              "    .colab-df-convert:hover {\n",
              "      background-color: #E2EBFA;\n",
              "      box-shadow: 0px 1px 2px rgba(60, 64, 67, 0.3), 0px 1px 3px 1px rgba(60, 64, 67, 0.15);\n",
              "      fill: #174EA6;\n",
              "    }\n",
              "\n",
              "    [theme=dark] .colab-df-convert {\n",
              "      background-color: #3B4455;\n",
              "      fill: #D2E3FC;\n",
              "    }\n",
              "\n",
              "    [theme=dark] .colab-df-convert:hover {\n",
              "      background-color: #434B5C;\n",
              "      box-shadow: 0px 1px 3px 1px rgba(0, 0, 0, 0.15);\n",
              "      filter: drop-shadow(0px 1px 2px rgba(0, 0, 0, 0.3));\n",
              "      fill: #FFFFFF;\n",
              "    }\n",
              "  </style>\n",
              "\n",
              "      <script>\n",
              "        const buttonEl =\n",
              "          document.querySelector('#df-d17b294e-1fe4-4662-b778-f64a3362bd44 button.colab-df-convert');\n",
              "        buttonEl.style.display =\n",
              "          google.colab.kernel.accessAllowed ? 'block' : 'none';\n",
              "\n",
              "        async function convertToInteractive(key) {\n",
              "          const element = document.querySelector('#df-d17b294e-1fe4-4662-b778-f64a3362bd44');\n",
              "          const dataTable =\n",
              "            await google.colab.kernel.invokeFunction('convertToInteractive',\n",
              "                                                     [key], {});\n",
              "          if (!dataTable) return;\n",
              "\n",
              "          const docLinkHtml = 'Like what you see? Visit the ' +\n",
              "            '<a target=\"_blank\" href=https://colab.research.google.com/notebooks/data_table.ipynb>data table notebook</a>'\n",
              "            + ' to learn more about interactive tables.';\n",
              "          element.innerHTML = '';\n",
              "          dataTable['output_type'] = 'display_data';\n",
              "          await google.colab.output.renderOutput(dataTable, element);\n",
              "          const docLink = document.createElement('div');\n",
              "          docLink.innerHTML = docLinkHtml;\n",
              "          element.appendChild(docLink);\n",
              "        }\n",
              "      </script>\n",
              "    </div>\n",
              "  </div>\n",
              "  "
            ]
          },
          "metadata": {}
        }
      ],
      "source": [
        "from IPython.display import display, Markdown\n",
        "df = pd.DataFrame({\n",
        "    'word_1': [1, 0, 1, 0],\n",
        "    'word_2': [0, 1, 0, 1],\n",
        "    'type': ['spam', 'ham', 'ham', 'ham']\n",
        "})\n",
        "display(Markdown(\"> Our Original DataFrame has some words column and a type column. You can think of each row is a sentence, and the value of 1 or 0 indicates the number of occurances of the word in this sentence.\"))\n",
        "display(df);\n",
        "display(Markdown(\"> `melt` will turn columns into variale, notice how `word_1` and `word_2` become `variable`, their values are stoed in the value column\"))\n",
        "display(df.melt(\"type\"))"
      ]
    },
    {
      "cell_type": "markdown",
      "metadata": {
        "id": "u1ng79qh-c9y"
      },
      "source": [
        "We can create a bar chart like the one above comparing the proportion of spam and ham emails containing certain words. Choose a set of words that are different from the ones above, but also have different proportions for the two classes. Make sure that we only consider emails from `train`.\n",
        "\n",
        "<!--\n",
        "BEGIN QUESTION\n",
        "name: q3a\n",
        "manual: True\n",
        "format: image\n",
        "points: 2\n",
        "-->\n",
        "<!-- EXPORT TO PDF format:image -->"
      ]
    },
    {
      "cell_type": "code",
      "execution_count": 14,
      "metadata": {
        "colab": {
          "base_uri": "https://localhost:8080/",
          "height": 585
        },
        "id": "kCRGFEby-c9y",
        "outputId": "388c7d7d-8a8a-4a6b-e1f7-9d276b6e1ba0"
      },
      "outputs": [
        {
          "output_type": "display_data",
          "data": {
            "text/plain": [
              "<Figure size 576x576 with 1 Axes>"
            ],
            "image/png": "[encoded data removed]"
          },
          "metadata": {
            "needs_background": "light"
          }
        }
      ],
      "source": [
        "# We must do this in order to preserve the ordering of emails to labels for words_in_texts\n",
        "train=train.reset_index(drop=True) \n",
        "\n",
        "some_words = ['body', 'html', 'please', 'money', 'business', 'offer']\n",
        "Phi_train = words_in_texts(some_words, train['email'])\n",
        "\n",
        "df = pd.DataFrame(data = Phi_train, columns = some_words)\n",
        "df['label'] = train['spam']\n",
        "\n",
        "plt.figure(figsize=(8,8))\n",
        "sns.barplot(x = \"variable\", \n",
        "            y = \"value\", \n",
        "            hue = \"label\", \n",
        "            data = (df\n",
        "                    .replace({'label': \n",
        "                                {0 : 'Ham', \n",
        "                                 1 : 'Spam'}})\n",
        "                    .melt('label')\n",
        "                    .groupby(['label', 'variable'])\n",
        "                    .mean()\n",
        "                    .reset_index()))\n",
        "\n",
        "plt.ylim([0, 1])\n",
        "plt.xlabel('Words')\n",
        "plt.ylabel('Proportion of Emails')\n",
        "plt.legend(title = \"\")\n",
        "plt.title(\"Frequency of Words in Spam/Ham Emails\")\n",
        "plt.tight_layout()\n",
        "plt.show()"
      ]
    },
    {
      "cell_type": "markdown",
      "metadata": {
        "id": "B6iIHbGL-c9y"
      },
      "source": [
        "### Question 3\n",
        "\n",
        "When the feature is binary, it makes sense to compare its proportions across classes (as in the previous question). Otherwise, if the feature can take on numeric values, we can compare the distributions of these values for different classes. \n",
        "\n",
        "Create a *class conditional density plot* like the one above (using `sns.distplot`), comparing the distribution of the length of spam emails to the distribution of the length of ham emails in the training set. Set the x-axis limit from 0 to 50000.\n",
        "\n",
        "<!--\n",
        "BEGIN QUESTION\n",
        "name: q3b\n",
        "manual: True\n",
        "format: image\n",
        "points: 2\n",
        "-->\n",
        "<!-- EXPORT TO PDF format:image -->"
      ]
    },
    {
      "cell_type": "code",
      "execution_count": 15,
      "metadata": {
        "colab": {
          "base_uri": "https://localhost:8080/",
          "height": 386
        },
        "id": "WOhTQJkM-c9y",
        "outputId": "8e158da0-3bea-4d9d-d2a3-aba97475ee66"
      },
      "outputs": [
        {
          "output_type": "stream",
          "name": "stderr",
          "text": [
            "/usr/local/lib/python3.7/dist-packages/seaborn/distributions.py:2619: FutureWarning: `distplot` is a deprecated function and will be removed in a future version. Please adapt your code to use either `displot` (a figure-level function with similar flexibility) or `kdeplot` (an axes-level function for kernel density plots).\n",
            "  warnings.warn(msg, FutureWarning)\n",
            "/usr/local/lib/python3.7/dist-packages/seaborn/distributions.py:2619: FutureWarning: `distplot` is a deprecated function and will be removed in a future version. Please adapt your code to use either `displot` (a figure-level function with similar flexibility) or `kdeplot` (an axes-level function for kernel density plots).\n",
            "  warnings.warn(msg, FutureWarning)\n"
          ]
        },
        {
          "output_type": "display_data",
          "data": {
            "text/plain": [
              "<Figure size 432x288 with 1 Axes>"
            ],
            "image/png": "[encoded data removed]"
          },
          "metadata": {
            "needs_background": "light"
          }
        }
      ],
      "source": [
        "# BEGIN SOLUTION\n",
        "...\n",
        "# END SOLUTION"
      ]
    },
    {
      "cell_type": "markdown",
      "metadata": {
        "id": "kGxhfFNy-c9y"
      },
      "source": [
        "## Basic Classification\n",
        "\n",
        "Notice that the output of `words_in_texts(words, train['email'])` is a numeric matrix containing features for each email. This means we can use it directly to train a classifier!"
      ]
    },
    {
      "cell_type": "markdown",
      "metadata": {
        "id": "AWxulxZ2-c9y"
      },
      "source": [
        "### Question 4\n",
        "\n",
        "We've given you 5 words that might be useful as features to distinguish spam/ham emails. Use these words as well as the `train` DataFrame to create two NumPy arrays: `X_train` and `Y_train`.\n",
        "\n",
        "- `X_train` should be a matrix of 0s and 1s created by using your `words_in_texts` function on all the emails in the training set.\n",
        "\n",
        "- `Y_train` should be a vector of the correct labels for each email in the training set.\n",
        "\n",
        "*The provided tests check that the dimensions of your feature matrix (X) are correct, and that your features and labels are binary (i.e. consists of 0 and 1, no other values). It does not check that your function is correct; that was verified in a previous question.*\n",
        "\n",
        "<!--\n",
        "BEGIN QUESTION\n",
        "name: q4\n",
        "points: 2\n",
        "-->"
      ]
    },
    {
      "cell_type": "code",
      "execution_count": 16,
      "metadata": {
        "colab": {
          "base_uri": "https://localhost:8080/"
        },
        "id": "Q2iQ0YrI-c9y",
        "outputId": "8f8b89ef-78a4-4e24-c2e9-5f853cf38030"
      },
      "outputs": [
        {
          "output_type": "execute_result",
          "data": {
            "text/plain": [
              "(array([[0, 0, 0, 0, 0],\n",
              "        [0, 0, 0, 0, 0],\n",
              "        [0, 0, 0, 0, 0],\n",
              "        [0, 0, 0, 0, 0],\n",
              "        [0, 0, 0, 1, 0]]), array([0, 0, 0, 0, 0]))"
            ]
          },
          "metadata": {},
          "execution_count": 16
        }
      ],
      "source": [
        "some_words = ['drug', 'bank', 'prescription', 'memo', 'private']\n",
        "\n",
        "# BEGIN YOUR CODE\n",
        "# -----------------------\n",
        "X_train = ...\n",
        "Y_train = ...\n",
        "# -----------------------\n",
        "# END YOUR CODE\n",
        "\n",
        "X_train[:5], Y_train[:5]"
      ]
    },
    {
      "cell_type": "code",
      "execution_count": 17,
      "metadata": {
        "colab": {
          "base_uri": "https://localhost:8080/"
        },
        "id": "A9sVGEvx-c9y",
        "outputId": "aec525ed-225f-455d-9950-75c4590794b6"
      },
      "outputs": [
        {
          "output_type": "stream",
          "name": "stdout",
          "text": [
            "\u001b[40m\u001b[93m\u001b[1mQ4: Passed all unit tests!\u001b[0m\n"
          ]
        }
      ],
      "source": [
        "assert X_train.shape == (7513, 5)\n",
        "assert len(np.unique(X_train)) == 2\n",
        "assert len(np.unique(Y_train)) == 2\n",
        "\n",
        "print_passed('Q4: Passed all unit tests!')"
      ]
    },
    {
      "cell_type": "markdown",
      "metadata": {
        "id": "s5zxFW5J-c9y"
      },
      "source": [
        "### Question 5\n",
        "\n",
        "Now we have matrices we can give to scikit-learn! \n",
        "\n",
        "- Using the [`LogisticRegression`](http://scikit-learn.org/stable/modules/generated/sklearn.linear_model.LogisticRegression.html) classifier, train a logistic regression model using `X_train` and `Y_train`.\n",
        "- Then, output the accuracy of the model (on the training data) in the cell below. You should get an accuracy around 75\\%.\n",
        "\n",
        "<!--\n",
        "BEGIN QUESTION\n",
        "name: q5\n",
        "points: 2\n",
        "-->"
      ]
    },
    {
      "cell_type": "code",
      "execution_count": 18,
      "metadata": {
        "colab": {
          "base_uri": "https://localhost:8080/"
        },
        "id": "VL7_VYxL-c9y",
        "outputId": "5b462232-bdde-44ac-fc02-76d706725d4f"
      },
      "outputs": [
        {
          "output_type": "stream",
          "name": "stdout",
          "text": [
            "Training Accuracy:  0.7576201251164648\n"
          ]
        }
      ],
      "source": [
        "from sklearn.linear_model import LogisticRegression\n",
        "\n",
        "# BEGIN YOUR CODE\n",
        "# -----------------------\n",
        "model = ...\n",
        "...\n",
        "training_accuracy = ...\n",
        "# -----------------------\n",
        "# END YOUR CODE\n",
        "\n",
        "print(\"Training Accuracy: \", training_accuracy)"
      ]
    },
    {
      "cell_type": "code",
      "execution_count": 19,
      "metadata": {
        "colab": {
          "base_uri": "https://localhost:8080/"
        },
        "id": "T4LqNCSb-c9z",
        "outputId": "9a4d4ac1-5a6b-4c46-dd4b-188d1ab7c4c7"
      },
      "outputs": [
        {
          "output_type": "stream",
          "name": "stdout",
          "text": [
            "\u001b[40m\u001b[93m\u001b[1mQ5: Passed all unit tests!\u001b[0m\n"
          ]
        }
      ],
      "source": [
        "assert training_accuracy > 0.72\n",
        "print_passed('Q5: Passed all unit tests!')"
      ]
    },
    {
      "cell_type": "markdown",
      "metadata": {
        "id": "3jv3rfgv-c9z"
      },
      "source": [
        "## Evaluating Classifiers"
      ]
    },
    {
      "cell_type": "markdown",
      "metadata": {
        "id": "mEVZsTjS-c9z"
      },
      "source": [
        "That doesn't seem too shabby! But the classifier you made above isn't as good as this might lead us to believe. First, we are evaluating accuracy on the training set, which may lead to a misleading accuracy measure, especially if we used the training set to identify discriminative features. In future parts of this analysis, it will be safer to hold out some of our data for model validation and comparison.\n",
        "\n",
        "Presumably, our classifier will be used for **filtering**, i.e. preventing messages labeled `spam` from reaching someone's inbox. There are two kinds of errors we can make:\n",
        "- False positive (FP): a ham email gets flagged as spam and filtered out of the inbox.\n",
        "- False negative (FN): a spam email gets mislabeled as ham and ends up in the inbox.\n",
        "\n",
        "These definitions depend both on the true labels and the predicted labels. False positives and false negatives may be of differing importance, leading us to consider more ways of evaluating a classifier, in addition to overall accuracy:\n",
        "\n",
        "**Precision** measures the proportion $\\frac{\\text{TP}}{\\text{TP} + \\text{FP}}$ of emails flagged as spam that are actually spam.\n",
        "\n",
        "**Recall** measures the proportion $\\frac{\\text{TP}}{\\text{TP} + \\text{FN}}$ of spam emails that were correctly flagged as spam. \n",
        "\n",
        "**False-alarm rate** measures the proportion $\\frac{\\text{FP}}{\\text{FP} + \\text{TN}}$ of ham emails that were incorrectly flagged as spam. \n",
        "\n",
        "The following image might help:\n",
        "\n",
        "<img src=\"https://upload.wikimedia.org/wikipedia/commons/thumb/2/26/Precisionrecall.svg/700px-Precisionrecall.svg.png\" width=\"500px\">\n",
        "\n",
        "Note that a true positive (TP) is a spam email that is classified as spam, and a true negative (TN) is a ham email that is classified as ham."
      ]
    },
    {
      "cell_type": "markdown",
      "metadata": {
        "id": "TikK5QTS-c9z"
      },
      "source": [
        "### Question 6a\n",
        "\n",
        "Suppose we have a classifier `zero_predictor` that always predicts 0 (never predicts positive). How many false positives and false negatives would this classifier have if it were evaluated on the training set and its results were compared to `Y_train`? Fill in the variables below (answers can be hard-coded):\n",
        "\n",
        "<!--\n",
        "BEGIN QUESTION\n",
        "name: q6a\n",
        "points: 1\n",
        "-->"
      ]
    },
    {
      "cell_type": "code",
      "execution_count": 20,
      "metadata": {
        "id": "UH8R7hKj-c9z"
      },
      "outputs": [],
      "source": [
        "# BEGIN YOUR CODE\n",
        "# -----------------------\n",
        "zero_predictor_fp = ...\n",
        "zero_predictor_fn = ...\n",
        "# -----------------------\n",
        "# END YOUR CODE"
      ]
    },
    {
      "cell_type": "code",
      "execution_count": 21,
      "metadata": {
        "colab": {
          "base_uri": "https://localhost:8080/"
        },
        "id": "_n0eCG3p-c9z",
        "outputId": "2bedcd4a-0af0-41ed-a31e-740f7524a54a"
      },
      "outputs": [
        {
          "output_type": "stream",
          "name": "stdout",
          "text": [
            "\u001b[40m\u001b[93m\u001b[1mQ6a: Passed all unit tests!\u001b[0m\n"
          ]
        }
      ],
      "source": [
        "assert zero_predictor_fp + zero_predictor_fn == 1918\n",
        "print_passed('Q6a: Passed all unit tests!')"
      ]
    },
    {
      "cell_type": "markdown",
      "metadata": {
        "id": "EwZ7pTRx-c9z"
      },
      "source": [
        "### Question 6b\n",
        "\n",
        "What are the accuracy and recall of `zero_predictor` (classifies every email as ham) on the training set? Do NOT use any `sklearn` functions.\n",
        "\n",
        "<!--\n",
        "BEGIN QUESTION\n",
        "name: q6b\n",
        "points: 1\n",
        "-->"
      ]
    },
    {
      "cell_type": "code",
      "execution_count": 22,
      "metadata": {
        "id": "8QNmzlhq-c9z"
      },
      "outputs": [],
      "source": [
        "# BEGIN YOUR CODE\n",
        "# -----------------------\n",
        "zero_predictor_acc = ...\n",
        "zero_predictor_recall = ...\n",
        "# -----------------------\n",
        "# END YOUR CODE"
      ]
    },
    {
      "cell_type": "code",
      "execution_count": 23,
      "metadata": {
        "colab": {
          "base_uri": "https://localhost:8080/"
        },
        "id": "ruHICzWJ-c9z",
        "outputId": "7d0edbbd-bf68-4d0c-c997-cef054915303"
      },
      "outputs": [
        {
          "output_type": "stream",
          "name": "stdout",
          "text": [
            "\u001b[40m\u001b[93m\u001b[1mQ6b: Passed all unit tests!\u001b[0m\n"
          ]
        }
      ],
      "source": [
        "assert np.isclose(zero_predictor_acc + zero_predictor_recall, 0.7447091707706642)\n",
        "print_passed('Q6b: Passed all unit tests!')"
      ]
    },
    {
      "cell_type": "markdown",
      "metadata": {
        "id": "9iX-Z_qX-c9z"
      },
      "source": [
        "### Question 6c\n",
        "\n",
        "Compute the precision, recall, and false-alarm rate of the `LogisticRegression` classifier created and trained in Question 5. **Note: Do NOT use any `sklearn` built-in functions.**\n",
        "\n",
        "<!--\n",
        "BEGIN QUESTION\n",
        "name: q6d\n",
        "points: 2\n",
        "-->"
      ]
    },
    {
      "cell_type": "code",
      "execution_count": 24,
      "metadata": {
        "id": "WmM7bi3g-c9z"
      },
      "outputs": [],
      "source": [
        "# BEGIN YOUR CODE\n",
        "# -----------------------\n",
        "logistic_predictor_precision = ...\n",
        "logistic_predictor_recall = ...\n",
        "logistic_predictor_far = ...\n",
        "# -----------------------\n",
        "# END YOUR CODE"
      ]
    },
    {
      "cell_type": "code",
      "execution_count": 25,
      "metadata": {
        "colab": {
          "base_uri": "https://localhost:8080/"
        },
        "id": "l1ksLYsZ-c9z",
        "outputId": "ab16070a-515b-430a-a415-39490331bc12"
      },
      "outputs": [
        {
          "output_type": "stream",
          "name": "stdout",
          "text": [
            "\u001b[40m\u001b[93m\u001b[1mQ6c: Passed all unit tests!\u001b[0m\n"
          ]
        }
      ],
      "source": [
        "assert np.isclose(logistic_predictor_precision, 0.6422287390029325)\n",
        "assert np.isclose(logistic_predictor_recall, 0.11418143899895725)\n",
        "assert np.isclose(logistic_predictor_far, 0.021805183199285077)\n",
        "print_passed('Q6c: Passed all unit tests!')"
      ]
    },
    {
      "cell_type": "markdown",
      "metadata": {
        "id": "SgF9D88T-c9z"
      },
      "source": [
        "### Question 6d\n",
        "\n",
        "1. Our logistic regression classifier got 75.6% prediction accuracy (number of correct predictions / total). How does this compare with predicting 0 for every email?\n",
        "1. Given the word features we gave you above, name one reason this classifier is performing poorly. Hint: Think about how prevalent these words are in the email set.\n",
        "1. Which of these two classifiers would you prefer for a spam filter and why? Describe your reasoning and relate it to at least one of the evaluation metrics you have computed so far.\n",
        "\n",
        "<!--\n",
        "BEGIN QUESTION\n",
        "name: q6f\n",
        "manual: True\n",
        "points: 3\n",
        "-->\n",
        "<!-- EXPORT TO PDF -->"
      ]
    },
    {
      "cell_type": "markdown",
      "metadata": {
        "id": "xDhUZqqt-c9z"
      },
      "source": [
        "Answer: \n",
        "1. `your answer here...`\n",
        "\n",
        "2. `your answer here...`\n",
        "\n",
        "3. `your answer here...`"
      ]
    },
    {
      "cell_type": "markdown",
      "metadata": {
        "id": "HVm_NmgG-c9z"
      },
      "source": [
        "# Part II - Moving Forward\n",
        "\n",
        "With this in mind, it is now your task to make the spam filter more accurate. In order to get full credit on the accuracy part of this assignment, you must get at least **88%** accuracy on the `validation` set.\n",
        "\n",
        "Here are some ideas for improving your model:\n",
        "\n",
        "1. Finding better features based on the email text. Some example features are:\n",
        "    1. Number of characters in the subject / body\n",
        "    1. Number of words in the subject / body\n",
        "    1. Use of punctuation (e.g., how many '!' were there?)\n",
        "    1. Number / percentage of capital letters \n",
        "    1. Whether the email is a reply to an earlier email or a forwarded email\n",
        "1. Finding better words to use as features. Which words are the best at distinguishing emails? This requires digging into the email text itself. \n",
        "1. Better data processing. For example, many emails contain HTML as well as text. You can consider extracting out the text from the HTML to help you find better words. Or, you can match HTML tags themselves, or even some combination of the two.\n",
        "1. Model selection. You can adjust parameters of your model (e.g. the regularization parameter) to achieve higher accuracy. Recall that you should use cross-validation to do feature and model selection properly! Otherwise, you will likely overfit to your training data.\n",
        "\n",
        "You may use whatever method you prefer in order to create features, but **you are not allowed to import any external feature extraction libraries**. In addition, **you are only allowed to train logistic regression models**. No random forests, k-nearest-neighbors, neural nets, etc."
      ]
    },
    {
      "cell_type": "markdown",
      "metadata": {
        "id": "6YXT9eVw-c90"
      },
      "source": [
        "### Question 7: EDA\n",
        "\n",
        "In the cell below, show a visualization that you used to select features for your model. Include both\n",
        "\n",
        "1. A plot showing something meaningful about the data that helped you during feature / model selection.\n",
        "2. 2-3 sentences describing what you plotted and what its implications are for your features.\n",
        "\n",
        "Feel free to create as many plots as you want in your process of feature selection, but select one for the response cell below.\n",
        "\n",
        "**You should not just produce an identical visualization to question 3.** Specifically, don't show us a bar chart of proportions, or a one-dimensional class-conditional density plot. Any other plot is acceptable, as long as it comes with thoughtful commentary. Here are some ideas:\n",
        "\n",
        "1. Consider the correlation between multiple features (look up correlation plots and `sns.heatmap`). \n",
        "1. Try to show redundancy in a group of features (e.g. `body` and `html` might co-occur relatively frequently, or you might be able to design a feature that captures all html tags and compare it to these). \n",
        "1. Visualize which words have high or low values for some useful statistic.\n",
        "1. Visually depict whether spam emails tend to be wordier (in some sense) than ham emails."
      ]
    },
    {
      "cell_type": "markdown",
      "metadata": {
        "id": "w4dBsZ3L-c90"
      },
      "source": [
        "Generate your visualization in the cell below and provide your description in a comment.\n",
        "\n",
        "<!--\n",
        "BEGIN QUESTION\n",
        "name: q8\n",
        "manual: True\n",
        "format: image\n",
        "points: 6\n",
        "-->\n",
        "<!-- EXPORT TO PDF format:image -->"
      ]
    },
    {
      "cell_type": "code",
      "execution_count": 26,
      "metadata": {
        "id": "fFwkgESs-c90"
      },
      "outputs": [],
      "source": [
        "# Write your description (2-3 sentences) as a comment here:\n",
        "# \n",
        "#\n",
        "#\n",
        "\n",
        "# Write the code to generate your visualization here:\n",
        "..."
      ]
    },
    {
      "cell_type": "markdown",
      "metadata": {
        "id": "ltSWEnms-c90"
      },
      "source": [
        "### Question 8: Precision-Recall Curve\n",
        "\n",
        "We can trade off between precision and recall. In most cases we won't be able to get both perfect precision (i.e. no false positives) and recall (i.e. no false negatives), so we have to compromise.\n",
        "\n",
        "Recall that logistic regression calculates the probability that an example belongs to a certain class. \n",
        "* Then, to classify an example we say that an email is spam if our classifier gives it $\\ge 0.5$ probability of being spam. \n",
        "* However, *we can adjust that cutoff*: we can say that an email is spam only if our classifier gives it $\\ge 0.7$ probability of being spam. \n",
        "\n",
        "This is how we can trade off false positives and false negatives. The precision-recall curve shows this trade off for each possible cutoff probability. In the cell below, [plot a precision-recall curve](http://scikit-learn.org/stable/auto_examples/model_selection/plot_precision_recall.html#plot-the-precision-recall-curve) for your final classifier.\n",
        "\n",
        "<!--\n",
        "BEGIN QUESTION\n",
        "name: q9\n",
        "manual: True\n",
        "points: 3\n",
        "-->\n",
        "<!-- EXPORT TO PDF -->"
      ]
    },
    {
      "cell_type": "code",
      "execution_count": 27,
      "metadata": {
        "colab": {
          "base_uri": "https://localhost:8080/",
          "height": 322
        },
        "id": "nvi9Qw-U-c90",
        "outputId": "98cf97a1-e8ce-493c-ae46-8f23684096fb"
      },
      "outputs": [
        {
          "output_type": "stream",
          "name": "stdout",
          "text": [
            "accuracy:  0.9242646080127779\n"
          ]
        },
        {
          "output_type": "display_data",
          "data": {
            "text/plain": [
              "<Figure size 432x288 with 1 Axes>"
            ],
            "image/png": "[encoded data removed]"
          },
          "metadata": {
            "needs_background": "light"
          }
        }
      ],
      "source": [
        "from sklearn.metrics import precision_recall_curve\n",
        "\n",
        "# Note that you'll want to use the .predict_proba(...) method for your classifier\n",
        "# instead of .predict(...) so you get probabilities, not classes\n",
        "\n",
        "# BEGIN YOUR CODE\n",
        "# -----------------------\n",
        "...\n",
        "# -----------------------\n",
        "# END YOUR CODE"
      ]
    },
    {
      "cell_type": "markdown",
      "metadata": {
        "id": "DACE1sh--c90"
      },
      "source": [
        "### Congratulations! You have completed HW 4.\n",
        "\n",
        "Make sure you have run all cells in your notebook in order before running the cell below, so that all images/graphs appear in the output.,\n",
        "\n",
        "**Please save before submitting!**\n",
        "\n",
        "Please generate pdf as follows and submit it to Gradescope.\n",
        "\n",
        "**File > Print Preview > Print > Save as pdf**\n",
        "\n",
        "<!-- EXPECT 9 EXPORTED QUESTIONS -->"
      ]
    }
  ],
  "metadata": {
    "colab": {
      "collapsed_sections": [],
      "name": "hw4.ipynb",
      "provenance": []
    },
    "kernelspec": {
      "display_name": "Python 3",
      "language": "python",
      "name": "python3"
    },
    "language_info": {
      "codemirror_mode": {
        "name": "ipython",
        "version": 3
      },
      "file_extension": ".py",
      "mimetype": "text/x-python",
      "name": "python",
      "nbconvert_exporter": "python",
      "pygments_lexer": "ipython3",
      "version": "3.6.4"
    }
  },
  "nbformat": 4,
  "nbformat_minor": 0
}